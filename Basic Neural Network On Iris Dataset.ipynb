{
 "cells": [
  {
   "cell_type": "code",
   "execution_count": 205,
   "metadata": {
    "scrolled": false
   },
   "outputs": [],
   "source": [
    "import numpy as np\n",
    "import tensorflow as tf\n",
    "from sklearn import datasets\n",
    "from sklearn.preprocessing import OneHotEncoder\n"
   ]
  },
  {
   "cell_type": "markdown",
   "metadata": {},
   "source": [
    "Define parameters of the Neural Network"
   ]
  },
  {
   "cell_type": "code",
   "execution_count": 206,
   "metadata": {},
   "outputs": [],
   "source": [
    "X = tf.placeholder(tf.float32,[None,None])\n",
    "Y = tf.placeholder(tf.float32,[None,None])\n",
    "keep_prob = tf.placeholder(tf.float32)"
   ]
  },
  {
   "cell_type": "code",
   "execution_count": 207,
   "metadata": {},
   "outputs": [],
   "source": [
    "def init(dim): \n",
    "    parameters = {}\n",
    "    L = len(dim)\n",
    "    for l in range(1,L):\n",
    "        parameters[\"W\"+str(l)] = tf.Variable(np.random.rand(dim[l],dim[l-1]),dtype=tf.float32)        \n",
    "        parameters[\"b\"+str(l)] = tf.Variable(np.zeros([dim[l],1]),dtype = tf.float32)\n",
    "    return parameters\n",
    "\n",
    "def forward_pass(parameters,dim,X,keep_prob):\n",
    "    n = X.shape[0]\n",
    "    m = X.shape[1] \n",
    "    A_prev = X\n",
    "    L = len(dim)\n",
    "    for l in range(1,L-1): \n",
    "        A_prev = tf.nn.relu(tf.matmul(parameters[\"W\"+str(l)],A_prev)+parameters[\"b\"+str(l)])\n",
    "        tf.nn.dropout(A_prev, keep_prob)\n",
    "    A = tf.matmul(parameters[\"W\"+str(L-1)],A_prev)+parameters[\"b\"+str(L-1)]  \n",
    "    return A\n",
    "        \n",
    "    "
   ]
  },
  {
   "cell_type": "code",
   "execution_count": 208,
   "metadata": {},
   "outputs": [],
   "source": [
    "def model(x,y,dim,learning_rate,kprob):\n",
    "    parameters = init(dim)\n",
    "    A = forward_pass(parameters,dim,X,kprob)\n",
    "    \n",
    "    cost = tf.reduce_mean(tf.nn.softmax_cross_entropy_with_logits(labels=tf.transpose(Y), logits=tf.transpose(A)))\n",
    "    train_step = tf.train.AdamOptimizer(learning_rate).minimize(cost)\n",
    "    \n",
    "    correct_prediction = tf.equal(tf.argmax(Y,0), tf.argmax(A,0))\n",
    "    accuracy = tf.reduce_mean(tf.cast(correct_prediction, tf.float32))\n",
    "    \n",
    "    with tf.Session() as sess:\n",
    "        sess.run(tf.global_variables_initializer())\n",
    "        for i in range(100):\n",
    "            _,acc,loss = sess.run([train_step,accuracy,cost],feed_dict={X:x,Y:y,keep_prob:kprob})\n",
    "            print(\"acc=\",acc,\" loss=\",loss)\n",
    "    "
   ]
  },
  {
   "cell_type": "code",
   "execution_count": 212,
   "metadata": {},
   "outputs": [
    {
     "name": "stdout",
     "output_type": "stream",
     "text": [
      "('acc=', 0.33333334, ' loss=', 1.5931991)\n",
      "('acc=', 0.33333334, ' loss=', 1.133777)\n",
      "('acc=', 0.33333334, ' loss=', 1.2021189)\n",
      "('acc=', 0.33333334, ' loss=', 0.95727885)\n",
      "('acc=', 0.66666669, ' loss=', 0.87979633)\n",
      "('acc=', 0.66666669, ' loss=', 0.86488169)\n",
      "('acc=', 0.66666669, ' loss=', 0.8197602)\n",
      "('acc=', 0.66666669, ' loss=', 0.74431103)\n",
      "('acc=', 0.66666669, ' loss=', 0.66969156)\n",
      "('acc=', 0.66666669, ' loss=', 0.60954499)\n",
      "('acc=', 0.67333335, ' loss=', 0.56103235)\n",
      "('acc=', 0.69999999, ' loss=', 0.52257407)\n",
      "('acc=', 0.81333333, ' loss=', 0.49049687)\n",
      "('acc=', 0.95333332, ' loss=', 0.46304086)\n",
      "('acc=', 0.98000002, ' loss=', 0.43882191)\n",
      "('acc=', 0.97333336, ' loss=', 0.41505459)\n",
      "('acc=', 0.96666664, ' loss=', 0.38957378)\n",
      "('acc=', 0.96666664, ' loss=', 0.36459437)\n",
      "('acc=', 0.95999998, ' loss=', 0.34423751)\n",
      "('acc=', 0.93333334, ' loss=', 0.32694089)\n",
      "('acc=', 0.95999998, ' loss=', 0.30763358)\n",
      "('acc=', 0.96666664, ' loss=', 0.28826764)\n",
      "('acc=', 0.96666664, ' loss=', 0.27354574)\n",
      "('acc=', 0.96666664, ' loss=', 0.25815535)\n",
      "('acc=', 0.98000002, ' loss=', 0.23965785)\n",
      "('acc=', 0.96666664, ' loss=', 0.22522002)\n",
      "('acc=', 0.96666664, ' loss=', 0.21118152)\n",
      "('acc=', 0.98000002, ' loss=', 0.1955422)\n",
      "('acc=', 0.96666664, ' loss=', 0.18429413)\n",
      "('acc=', 0.97333336, ' loss=', 0.17165883)\n",
      "('acc=', 0.98000002, ' loss=', 0.15964834)\n",
      "('acc=', 0.97333336, ' loss=', 0.15071468)\n",
      "('acc=', 0.98000002, ' loss=', 0.14007391)\n",
      "('acc=', 0.97333336, ' loss=', 0.13259806)\n",
      "('acc=', 0.97333336, ' loss=', 0.12469342)\n",
      "('acc=', 0.98000002, ' loss=', 0.11748216)\n",
      "('acc=', 0.98000002, ' loss=', 0.11205175)\n",
      "('acc=', 0.98000002, ' loss=', 0.10569343)\n",
      "('acc=', 0.97333336, ' loss=', 0.1015917)\n",
      "('acc=', 0.98000002, ' loss=', 0.096625462)\n",
      "('acc=', 0.98000002, ' loss=', 0.09297397)\n",
      "('acc=', 0.98000002, ' loss=', 0.089510314)\n",
      "('acc=', 0.97333336, ' loss=', 0.086131379)\n",
      "('acc=', 0.97333336, ' loss=', 0.08375068)\n",
      "('acc=', 0.98000002, ' loss=', 0.080810137)\n",
      "('acc=', 0.98000002, ' loss=', 0.078981876)\n",
      "('acc=', 0.98000002, ' loss=', 0.076660439)\n",
      "('acc=', 0.97333336, ' loss=', 0.075056486)\n",
      "('acc=', 0.97333336, ' loss=', 0.07334587)\n",
      "('acc=', 0.98000002, ' loss=', 0.071850769)\n",
      "('acc=', 0.98000002, ' loss=', 0.07062383)\n",
      "('acc=', 0.97333336, ' loss=', 0.069249034)\n",
      "('acc=', 0.97333336, ' loss=', 0.06833294)\n",
      "('acc=', 0.97333336, ' loss=', 0.067135744)\n",
      "('acc=', 0.98000002, ' loss=', 0.066376522)\n",
      "('acc=', 0.97333336, ' loss=', 0.065389261)\n",
      "('acc=', 0.97333336, ' loss=', 0.064705148)\n",
      "('acc=', 0.97333336, ' loss=', 0.063911766)\n",
      "('acc=', 0.97333336, ' loss=', 0.063269474)\n",
      "('acc=', 0.97333336, ' loss=', 0.062636949)\n",
      "('acc=', 0.97333336, ' loss=', 0.062029433)\n",
      "('acc=', 0.98000002, ' loss=', 0.061514214)\n",
      "('acc=', 0.97333336, ' loss=', 0.060949739)\n",
      "('acc=', 0.97333336, ' loss=', 0.06051255)\n",
      "('acc=', 0.98000002, ' loss=', 0.059995912)\n",
      "('acc=', 0.98000002, ' loss=', 0.059611976)\n",
      "('acc=', 0.98000002, ' loss=', 0.059144486)\n",
      "('acc=', 0.98000002, ' loss=', 0.05879521)\n",
      "('acc=', 0.98000002, ' loss=', 0.058375638)\n",
      "('acc=', 0.98000002, ' loss=', 0.05805327)\n",
      "('acc=', 0.98000002, ' loss=', 0.057676118)\n",
      "('acc=', 0.98000002, ' loss=', 0.057375465)\n",
      "('acc=', 0.98000002, ' loss=', 0.057036236)\n",
      "('acc=', 0.98000002, ' loss=', 0.056755181)\n",
      "('acc=', 0.98000002, ' loss=', 0.056447823)\n",
      "('acc=', 0.98000002, ' loss=', 0.056185056)\n",
      "('acc=', 0.98000002, ' loss=', 0.055905297)\n",
      "('acc=', 0.98000002, ' loss=', 0.055659931)\n",
      "('acc=', 0.98000002, ' loss=', 0.055403378)\n",
      "('acc=', 0.98000002, ' loss=', 0.055174395)\n",
      "('acc=', 0.98000002, ' loss=', 0.054937877)\n",
      "('acc=', 0.98000002, ' loss=', 0.054724108)\n",
      "('acc=', 0.98000002, ' loss=', 0.054504666)\n",
      "('acc=', 0.98000002, ' loss=', 0.054304868)\n",
      "('acc=', 0.98000002, ' loss=', 0.054100335)\n",
      "('acc=', 0.98000002, ' loss=', 0.053913251)\n",
      "('acc=', 0.98000002, ' loss=', 0.05372161)\n",
      "('acc=', 0.98000002, ' loss=', 0.053545836)\n",
      "('acc=', 0.98666668, ' loss=', 0.053365804)\n",
      "('acc=', 0.98666668, ' loss=', 0.053200118)\n",
      "('acc=', 0.98666668, ' loss=', 0.053030428)\n",
      "('acc=', 0.98666668, ' loss=', 0.052873608)\n",
      "('acc=', 0.98666668, ' loss=', 0.052713342)\n",
      "('acc=', 0.98666668, ' loss=', 0.052564465)\n",
      "('acc=', 0.98666668, ' loss=', 0.052412797)\n",
      "('acc=', 0.98666668, ' loss=', 0.052270841)\n",
      "('acc=', 0.98666668, ' loss=', 0.052127287)\n",
      "('acc=', 0.98666668, ' loss=', 0.051991504)\n",
      "('acc=', 0.98666668, ' loss=', 0.051855411)\n",
      "('acc=', 0.98666668, ' loss=', 0.051725168)\n"
     ]
    }
   ],
   "source": [
    "iris = datasets.load_iris()\n",
    "#Y = tf.constant(iris.target.reshape((-1,1)).T,dtype=tf.float32)\n",
    "X_train = iris.data.T\n",
    "dim = [X_train.shape[0],2,3]\n",
    "Y_train = np.squeeze(np.eye(3)[iris.target]).T\n",
    "\n",
    "res = model(iris.data.T,t,dim,0.1,0.7)\n"
   ]
  },
  {
   "cell_type": "code",
   "execution_count": null,
   "metadata": {},
   "outputs": [],
   "source": []
  }
 ],
 "metadata": {
  "kernelspec": {
   "display_name": "Python 2",
   "language": "python",
   "name": "python2"
  },
  "language_info": {
   "codemirror_mode": {
    "name": "ipython",
    "version": 2
   },
   "file_extension": ".py",
   "mimetype": "text/x-python",
   "name": "python",
   "nbconvert_exporter": "python",
   "pygments_lexer": "ipython2",
   "version": "2.7.12"
  }
 },
 "nbformat": 4,
 "nbformat_minor": 2
}
